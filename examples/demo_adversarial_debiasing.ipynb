{
 "cells": [
  {
   "cell_type": "markdown",
   "metadata": {},
   "source": [
    "#### This notebook demonstrates the use of adversarial debiasing algorithm to learn a fair classifier.\n",
    "Adversarial debiasing [1] is an in-processing technique that learns a classifier to maximize prediction accuracy and simultaneously reduce an adversary's ability to determine the protected attribute from the predictions. This approach leads to a fair classifier as the predictions cannot carry any group discrimination information that the adversary can exploit. We will see how to use this algorithm for learning models with and without fairness constraints and apply them on the Adult dataset."
   ]
  },
  {
   "cell_type": "code",
   "execution_count": 15,
   "metadata": {},
   "outputs": [],
   "source": [
    "%matplotlib inline\n",
    "# Load all necessary packages\n",
    "import sys\n",
    "sys.path.append(\"../\")\n",
    "from aif360.datasets import BinaryLabelDataset\n",
    "from aif360.datasets import AdultDataset, GermanDataset, CompasDataset\n",
    "from aif360.metrics import BinaryLabelDatasetMetric\n",
    "from aif360.metrics import ClassificationMetric\n",
    "from aif360.metrics.utils import compute_boolean_conditioning_vector\n",
    "\n",
    "from aif360.algorithms.preprocessing.optim_preproc_helpers.data_preproc_functions import load_preproc_data_adult, load_preproc_data_compas, load_preproc_data_german\n",
    "\n",
    "from aif360.algorithms.inprocessing.adversarial_debiasing import AdversarialDebiasing\n",
    "\n",
    "from sklearn.linear_model import LogisticRegression\n",
    "from sklearn.preprocessing import StandardScaler, MaxAbsScaler\n",
    "from sklearn.metrics import accuracy_score\n",
    "\n",
    "from IPython.display import Markdown, display\n",
    "import matplotlib.pyplot as plt\n",
    "\n",
    "import tensorflow.compat.v1 as tf #2.8.0\n",
    "tf.disable_eager_execution() #useless for tensorflow versions > 2.0"
   ]
  },
  {
   "cell_type": "markdown",
   "metadata": {},
   "source": [
    "#### Load dataset and set options"
   ]
  },
  {
   "cell_type": "code",
   "execution_count": 16,
   "metadata": {},
   "outputs": [
    {
     "name": "stdout",
     "output_type": "stream",
     "text": [
      "sex [1.0]\n",
      "ooo\n",
      "df[attr]  [0.0]\n",
      "priviliged values prima:  [1.0]\n",
      "priviliged values =vals:  [1.0]\n",
      "unprivileged_values prima [0.0]\n",
      "<class 'list'>\n",
      "unprivileged_values dopo [0.0]\n",
      "race [1.0]\n",
      "ooo\n",
      "df[attr]  [0.0]\n",
      "priviliged values prima:  [1.0]\n",
      "priviliged values =vals:  [1.0]\n",
      "unprivileged_values prima [0.0]\n",
      "<class 'list'>\n",
      "unprivileged_values dopo [0.0]\n"
     ]
    }
   ],
   "source": [
    "# Get the dataset and split into train and test\n",
    "dataset_orig = load_preproc_data_adult()\n",
    "\n",
    "privileged_groups = [{'sex': 1}]\n",
    "unprivileged_groups = [{'sex': 0}]\n",
    "\n",
    "dataset_orig_train, dataset_orig_test = dataset_orig.split([0.7], shuffle=True)"
   ]
  },
  {
   "cell_type": "code",
   "execution_count": 17,
   "metadata": {},
   "outputs": [
    {
     "data": {
      "text/plain": "<IPython.core.display.Markdown object>",
      "text/markdown": "#### Training Dataset shape"
     },
     "metadata": {},
     "output_type": "display_data"
    },
    {
     "name": "stdout",
     "output_type": "stream",
     "text": [
      "(34189, 18)\n",
      "1.0 0.0\n",
      "['sex', 'race']\n",
      "[array([1.]), array([1.])] [array([0.]), array([0.])]\n",
      "['race', 'sex', 'Age (decade)=10', 'Age (decade)=20', 'Age (decade)=30', 'Age (decade)=40', 'Age (decade)=50', 'Age (decade)=60', 'Age (decade)=>=70', 'Education Years=6', 'Education Years=7', 'Education Years=8', 'Education Years=9', 'Education Years=10', 'Education Years=11', 'Education Years=12', 'Education Years=<6', 'Education Years=>12']\n"
     ]
    },
    {
     "data": {
      "text/plain": "<IPython.core.display.Markdown object>",
      "text/markdown": "#### Favorable and unfavorable labels"
     },
     "metadata": {},
     "output_type": "display_data"
    },
    {
     "data": {
      "text/plain": "<IPython.core.display.Markdown object>",
      "text/markdown": "#### Protected attribute names"
     },
     "metadata": {},
     "output_type": "display_data"
    },
    {
     "data": {
      "text/plain": "<IPython.core.display.Markdown object>",
      "text/markdown": "#### Privileged and unprivileged protected attribute values"
     },
     "metadata": {},
     "output_type": "display_data"
    },
    {
     "data": {
      "text/plain": "<IPython.core.display.Markdown object>",
      "text/markdown": "#### Dataset feature names"
     },
     "metadata": {},
     "output_type": "display_data"
    }
   ],
   "source": [
    "# print out some labels, names, etc.\n",
    "display(Markdown(\"#### Training Dataset shape\"))\n",
    "print(dataset_orig_train.features.shape)\n",
    "display(Markdown(\"#### Favorable and unfavorable labels\"))\n",
    "print(dataset_orig_train.favorable_label, dataset_orig_train.unfavorable_label)\n",
    "display(Markdown(\"#### Protected attribute names\"))\n",
    "print(dataset_orig_train.protected_attribute_names)\n",
    "display(Markdown(\"#### Privileged and unprivileged protected attribute values\"))\n",
    "print(dataset_orig_train.privileged_protected_attributes, \n",
    "      dataset_orig_train.unprivileged_protected_attributes)\n",
    "display(Markdown(\"#### Dataset feature names\"))\n",
    "print(dataset_orig_train.feature_names)"
   ]
  },
  {
   "cell_type": "markdown",
   "metadata": {},
   "source": [
    "#### Metric for original training data"
   ]
  },
  {
   "cell_type": "code",
   "execution_count": 18,
   "metadata": {},
   "outputs": [
    {
     "data": {
      "text/plain": "<IPython.core.display.Markdown object>",
      "text/markdown": "#### Original training dataset"
     },
     "metadata": {},
     "output_type": "display_data"
    },
    {
     "name": "stdout",
     "output_type": "stream",
     "text": [
      "Train set: Difference in mean outcomes between unprivileged and privileged groups = -0.194850\n",
      "Test set: Difference in mean outcomes between unprivileged and privileged groups = -0.193752\n"
     ]
    }
   ],
   "source": [
    "# Metric for the original dataset\n",
    "metric_orig_train = BinaryLabelDatasetMetric(dataset_orig_train, \n",
    "                                             unprivileged_groups=unprivileged_groups,\n",
    "                                             privileged_groups=privileged_groups)\n",
    "display(Markdown(\"#### Original training dataset\"))\n",
    "print(\"Train set: Difference in mean outcomes between unprivileged and privileged groups = %f\" % metric_orig_train.mean_difference())\n",
    "metric_orig_test = BinaryLabelDatasetMetric(dataset_orig_test, \n",
    "                                             unprivileged_groups=unprivileged_groups,\n",
    "                                             privileged_groups=privileged_groups)\n",
    "print(\"Test set: Difference in mean outcomes between unprivileged and privileged groups = %f\" % metric_orig_test.mean_difference())"
   ]
  },
  {
   "cell_type": "code",
   "execution_count": 19,
   "metadata": {},
   "outputs": [
    {
     "data": {
      "text/plain": "<IPython.core.display.Markdown object>",
      "text/markdown": "#### Scaled dataset - Verify that the scaling does not affect the group label statistics"
     },
     "metadata": {},
     "output_type": "display_data"
    },
    {
     "name": "stdout",
     "output_type": "stream",
     "text": [
      "Train set: Difference in mean outcomes between unprivileged and privileged groups = -0.194850\n",
      "Test set: Difference in mean outcomes between unprivileged and privileged groups = -0.193752\n"
     ]
    }
   ],
   "source": [
    "min_max_scaler = MaxAbsScaler()\n",
    "dataset_orig_train.features = min_max_scaler.fit_transform(dataset_orig_train.features)\n",
    "dataset_orig_test.features = min_max_scaler.transform(dataset_orig_test.features)\n",
    "metric_scaled_train = BinaryLabelDatasetMetric(dataset_orig_train, \n",
    "                             unprivileged_groups=unprivileged_groups,\n",
    "                             privileged_groups=privileged_groups)\n",
    "display(Markdown(\"#### Scaled dataset - Verify that the scaling does not affect the group label statistics\"))\n",
    "print(\"Train set: Difference in mean outcomes between unprivileged and privileged groups = %f\" % metric_scaled_train.mean_difference())\n",
    "metric_scaled_test = BinaryLabelDatasetMetric(dataset_orig_test, \n",
    "                             unprivileged_groups=unprivileged_groups,\n",
    "                             privileged_groups=privileged_groups)\n",
    "print(\"Test set: Difference in mean outcomes between unprivileged and privileged groups = %f\" % metric_scaled_test.mean_difference())\n"
   ]
  },
  {
   "cell_type": "markdown",
   "metadata": {},
   "source": [
    "### Learn plan classifier without debiasing"
   ]
  },
  {
   "cell_type": "code",
   "execution_count": 20,
   "metadata": {},
   "outputs": [],
   "source": [
    "# Load post-processing algorithm that equalizes the odds\n",
    "# Learn parameters with debias set to False\n",
    "sess = tf.compat.v1.Session()\n",
    "plain_model = AdversarialDebiasing(privileged_groups = privileged_groups,\n",
    "                          unprivileged_groups = unprivileged_groups,\n",
    "                          scope_name='plain_classifier',\n",
    "                          debias=False,\n",
    "                          sess=sess)"
   ]
  },
  {
   "cell_type": "code",
   "execution_count": 21,
   "metadata": {
    "scrolled": true
   },
   "outputs": [
    {
     "name": "stdout",
     "output_type": "stream",
     "text": [
      "WARNING:tensorflow:From c:\\users\\andre\\appdata\\local\\programs\\python\\python38\\lib\\site-packages\\tensorflow\\python\\util\\dispatch.py:1082: calling dropout (from tensorflow.python.ops.nn_ops) with keep_prob is deprecated and will be removed in a future version.\n",
      "Instructions for updating:\n",
      "Please use `rate` instead of `keep_prob`. Rate should be set to `rate = 1 - keep_prob`.\n",
      "epoch 0; iter: 0; batch classifier loss: 0.715120\n",
      "epoch 0; iter: 200; batch classifier loss: 0.393146\n",
      "epoch 1; iter: 0; batch classifier loss: 0.440599\n",
      "epoch 1; iter: 200; batch classifier loss: 0.451024\n",
      "epoch 2; iter: 0; batch classifier loss: 0.473709\n",
      "epoch 2; iter: 200; batch classifier loss: 0.408319\n",
      "epoch 3; iter: 0; batch classifier loss: 0.501400\n",
      "epoch 3; iter: 200; batch classifier loss: 0.406931\n",
      "epoch 4; iter: 0; batch classifier loss: 0.367959\n",
      "epoch 4; iter: 200; batch classifier loss: 0.441929\n",
      "epoch 5; iter: 0; batch classifier loss: 0.537898\n",
      "epoch 5; iter: 200; batch classifier loss: 0.392074\n",
      "epoch 6; iter: 0; batch classifier loss: 0.499795\n",
      "epoch 6; iter: 200; batch classifier loss: 0.421334\n",
      "epoch 7; iter: 0; batch classifier loss: 0.450431\n",
      "epoch 7; iter: 200; batch classifier loss: 0.353959\n",
      "epoch 8; iter: 0; batch classifier loss: 0.365706\n",
      "epoch 8; iter: 200; batch classifier loss: 0.380625\n",
      "epoch 9; iter: 0; batch classifier loss: 0.442692\n",
      "epoch 9; iter: 200; batch classifier loss: 0.372547\n",
      "epoch 10; iter: 0; batch classifier loss: 0.482908\n",
      "epoch 10; iter: 200; batch classifier loss: 0.482514\n",
      "epoch 11; iter: 0; batch classifier loss: 0.384437\n",
      "epoch 11; iter: 200; batch classifier loss: 0.376758\n",
      "epoch 12; iter: 0; batch classifier loss: 0.490345\n",
      "epoch 12; iter: 200; batch classifier loss: 0.444684\n",
      "epoch 13; iter: 0; batch classifier loss: 0.439394\n",
      "epoch 13; iter: 200; batch classifier loss: 0.481744\n",
      "epoch 14; iter: 0; batch classifier loss: 0.501574\n",
      "epoch 14; iter: 200; batch classifier loss: 0.363284\n",
      "epoch 15; iter: 0; batch classifier loss: 0.457786\n",
      "epoch 15; iter: 200; batch classifier loss: 0.448476\n",
      "epoch 16; iter: 0; batch classifier loss: 0.391055\n",
      "epoch 16; iter: 200; batch classifier loss: 0.430556\n",
      "epoch 17; iter: 0; batch classifier loss: 0.357778\n",
      "epoch 17; iter: 200; batch classifier loss: 0.386318\n",
      "epoch 18; iter: 0; batch classifier loss: 0.393169\n",
      "epoch 18; iter: 200; batch classifier loss: 0.463459\n",
      "epoch 19; iter: 0; batch classifier loss: 0.451907\n",
      "epoch 19; iter: 200; batch classifier loss: 0.433200\n",
      "epoch 20; iter: 0; batch classifier loss: 0.516328\n",
      "epoch 20; iter: 200; batch classifier loss: 0.408115\n",
      "epoch 21; iter: 0; batch classifier loss: 0.347551\n",
      "epoch 21; iter: 200; batch classifier loss: 0.384774\n",
      "epoch 22; iter: 0; batch classifier loss: 0.364702\n",
      "epoch 22; iter: 200; batch classifier loss: 0.397341\n",
      "epoch 23; iter: 0; batch classifier loss: 0.471231\n",
      "epoch 23; iter: 200; batch classifier loss: 0.383462\n",
      "epoch 24; iter: 0; batch classifier loss: 0.479816\n",
      "epoch 24; iter: 200; batch classifier loss: 0.422326\n",
      "epoch 25; iter: 0; batch classifier loss: 0.361351\n",
      "epoch 25; iter: 200; batch classifier loss: 0.365431\n",
      "epoch 26; iter: 0; batch classifier loss: 0.487573\n",
      "epoch 26; iter: 200; batch classifier loss: 0.434166\n",
      "epoch 27; iter: 0; batch classifier loss: 0.347549\n",
      "epoch 27; iter: 200; batch classifier loss: 0.377013\n",
      "epoch 28; iter: 0; batch classifier loss: 0.340033\n",
      "epoch 28; iter: 200; batch classifier loss: 0.382618\n",
      "epoch 29; iter: 0; batch classifier loss: 0.461916\n",
      "epoch 29; iter: 200; batch classifier loss: 0.335786\n",
      "epoch 30; iter: 0; batch classifier loss: 0.387009\n",
      "epoch 30; iter: 200; batch classifier loss: 0.461776\n",
      "epoch 31; iter: 0; batch classifier loss: 0.414892\n",
      "epoch 31; iter: 200; batch classifier loss: 0.371698\n",
      "epoch 32; iter: 0; batch classifier loss: 0.378327\n",
      "epoch 32; iter: 200; batch classifier loss: 0.395583\n",
      "epoch 33; iter: 0; batch classifier loss: 0.414892\n",
      "epoch 33; iter: 200; batch classifier loss: 0.412282\n",
      "epoch 34; iter: 0; batch classifier loss: 0.460430\n",
      "epoch 34; iter: 200; batch classifier loss: 0.399770\n",
      "epoch 35; iter: 0; batch classifier loss: 0.467079\n",
      "epoch 35; iter: 200; batch classifier loss: 0.370196\n",
      "epoch 36; iter: 0; batch classifier loss: 0.460588\n",
      "epoch 36; iter: 200; batch classifier loss: 0.430959\n",
      "epoch 37; iter: 0; batch classifier loss: 0.438904\n",
      "epoch 37; iter: 200; batch classifier loss: 0.384480\n",
      "epoch 38; iter: 0; batch classifier loss: 0.315021\n",
      "epoch 38; iter: 200; batch classifier loss: 0.366295\n",
      "epoch 39; iter: 0; batch classifier loss: 0.431485\n",
      "epoch 39; iter: 200; batch classifier loss: 0.412213\n",
      "epoch 40; iter: 0; batch classifier loss: 0.425728\n",
      "epoch 40; iter: 200; batch classifier loss: 0.361631\n",
      "epoch 41; iter: 0; batch classifier loss: 0.354662\n",
      "epoch 41; iter: 200; batch classifier loss: 0.436147\n",
      "epoch 42; iter: 0; batch classifier loss: 0.465118\n",
      "epoch 42; iter: 200; batch classifier loss: 0.463845\n",
      "epoch 43; iter: 0; batch classifier loss: 0.398956\n",
      "epoch 43; iter: 200; batch classifier loss: 0.411334\n",
      "epoch 44; iter: 0; batch classifier loss: 0.498356\n",
      "epoch 44; iter: 200; batch classifier loss: 0.422715\n",
      "epoch 45; iter: 0; batch classifier loss: 0.477918\n",
      "epoch 45; iter: 200; batch classifier loss: 0.550030\n",
      "epoch 46; iter: 0; batch classifier loss: 0.484132\n",
      "epoch 46; iter: 200; batch classifier loss: 0.401795\n",
      "epoch 47; iter: 0; batch classifier loss: 0.422115\n",
      "epoch 47; iter: 200; batch classifier loss: 0.424059\n",
      "epoch 48; iter: 0; batch classifier loss: 0.451842\n",
      "epoch 48; iter: 200; batch classifier loss: 0.437281\n",
      "epoch 49; iter: 0; batch classifier loss: 0.411312\n",
      "epoch 49; iter: 200; batch classifier loss: 0.375023\n"
     ]
    },
    {
     "data": {
      "text/plain": "<aif360.algorithms.inprocessing.adversarial_debiasing.AdversarialDebiasing at 0x2dc9c3472e0>"
     },
     "execution_count": 21,
     "metadata": {},
     "output_type": "execute_result"
    }
   ],
   "source": [
    "plain_model.fit(dataset_orig_train)"
   ]
  },
  {
   "cell_type": "code",
   "execution_count": 22,
   "metadata": {},
   "outputs": [],
   "source": [
    "# Apply the plain model to test data\n",
    "dataset_nodebiasing_train = plain_model.predict(dataset_orig_train)\n",
    "dataset_nodebiasing_test = plain_model.predict(dataset_orig_test)"
   ]
  },
  {
   "cell_type": "code",
   "execution_count": 23,
   "metadata": {},
   "outputs": [
    {
     "data": {
      "text/plain": "<IPython.core.display.Markdown object>",
      "text/markdown": "#### Plain model - without debiasing - dataset metrics"
     },
     "metadata": {},
     "output_type": "display_data"
    },
    {
     "name": "stdout",
     "output_type": "stream",
     "text": [
      "Train set: Difference in mean outcomes between unprivileged and privileged groups = -0.229997\n",
      "Test set: Difference in mean outcomes between unprivileged and privileged groups = -0.232417\n",
      "Test set: Classification accuracy = 0.802703\n",
      "Test set: Balanced classification accuracy = 0.668518\n",
      "Test set: Disparate impact = 0.000000\n",
      "Test set: Equal opportunity difference = -0.486013\n",
      "Test set: Average odds difference = -0.303784\n",
      "Test set: Theil_index = 0.173769\n"
     ]
    },
    {
     "data": {
      "text/plain": "<IPython.core.display.Markdown object>",
      "text/markdown": "#### Plain model - without debiasing - classification metrics"
     },
     "metadata": {},
     "output_type": "display_data"
    }
   ],
   "source": [
    "# Metrics for the dataset from plain model (without debiasing)\n",
    "display(Markdown(\"#### Plain model - without debiasing - dataset metrics\"))\n",
    "metric_dataset_nodebiasing_train = BinaryLabelDatasetMetric(dataset_nodebiasing_train, \n",
    "                                             unprivileged_groups=unprivileged_groups,\n",
    "                                             privileged_groups=privileged_groups)\n",
    "\n",
    "print(\"Train set: Difference in mean outcomes between unprivileged and privileged groups = %f\" % metric_dataset_nodebiasing_train.mean_difference())\n",
    "\n",
    "metric_dataset_nodebiasing_test = BinaryLabelDatasetMetric(dataset_nodebiasing_test, \n",
    "                                             unprivileged_groups=unprivileged_groups,\n",
    "                                             privileged_groups=privileged_groups)\n",
    "\n",
    "print(\"Test set: Difference in mean outcomes between unprivileged and privileged groups = %f\" % metric_dataset_nodebiasing_test.mean_difference())\n",
    "\n",
    "display(Markdown(\"#### Plain model - without debiasing - classification metrics\"))\n",
    "classified_metric_nodebiasing_test = ClassificationMetric(dataset_orig_test, \n",
    "                                                 dataset_nodebiasing_test,\n",
    "                                                 unprivileged_groups=unprivileged_groups,\n",
    "                                                 privileged_groups=privileged_groups)\n",
    "print(\"Test set: Classification accuracy = %f\" % classified_metric_nodebiasing_test.accuracy())\n",
    "TPR = classified_metric_nodebiasing_test.true_positive_rate()\n",
    "TNR = classified_metric_nodebiasing_test.true_negative_rate()\n",
    "bal_acc_nodebiasing_test = 0.5*(TPR+TNR)\n",
    "print(\"Test set: Balanced classification accuracy = %f\" % bal_acc_nodebiasing_test)\n",
    "print(\"Test set: Disparate impact = %f\" % classified_metric_nodebiasing_test.disparate_impact())\n",
    "print(\"Test set: Equal opportunity difference = %f\" % classified_metric_nodebiasing_test.equal_opportunity_difference())\n",
    "print(\"Test set: Average odds difference = %f\" % classified_metric_nodebiasing_test.average_odds_difference())\n",
    "print(\"Test set: Theil_index = %f\" % classified_metric_nodebiasing_test.theil_index())"
   ]
  },
  {
   "cell_type": "markdown",
   "metadata": {},
   "source": [
    "### Apply in-processing algorithm based on adversarial learning"
   ]
  },
  {
   "cell_type": "code",
   "execution_count": 24,
   "metadata": {},
   "outputs": [],
   "source": [
    "sess.close()\n",
    "tf.reset_default_graph()\n",
    "sess = tf.Session()"
   ]
  },
  {
   "cell_type": "code",
   "execution_count": 25,
   "metadata": {},
   "outputs": [],
   "source": [
    "# Learn parameters with debias set to True\n",
    "debiased_model = AdversarialDebiasing(privileged_groups = privileged_groups,\n",
    "                          unprivileged_groups = unprivileged_groups,\n",
    "                          scope_name='debiased_classifier',\n",
    "                          debias=True,\n",
    "                          sess=sess)"
   ]
  },
  {
   "cell_type": "code",
   "execution_count": 26,
   "metadata": {
    "scrolled": true
   },
   "outputs": [
    {
     "name": "stdout",
     "output_type": "stream",
     "text": [
      "epoch 0; iter: 0; batch classifier loss: 0.726805; batch adversarial loss: 0.725726\n",
      "epoch 0; iter: 200; batch classifier loss: 0.399297; batch adversarial loss: 0.663164\n",
      "epoch 1; iter: 0; batch classifier loss: 0.466386; batch adversarial loss: 0.643637\n",
      "epoch 1; iter: 200; batch classifier loss: 0.389937; batch adversarial loss: 0.617877\n",
      "epoch 2; iter: 0; batch classifier loss: 0.393010; batch adversarial loss: 0.666465\n",
      "epoch 2; iter: 200; batch classifier loss: 0.372852; batch adversarial loss: 0.618113\n",
      "epoch 3; iter: 0; batch classifier loss: 0.516191; batch adversarial loss: 0.621010\n",
      "epoch 3; iter: 200; batch classifier loss: 0.445630; batch adversarial loss: 0.653140\n",
      "epoch 4; iter: 0; batch classifier loss: 0.474143; batch adversarial loss: 0.667452\n",
      "epoch 4; iter: 200; batch classifier loss: 0.466743; batch adversarial loss: 0.594200\n",
      "epoch 5; iter: 0; batch classifier loss: 0.492157; batch adversarial loss: 0.674340\n",
      "epoch 5; iter: 200; batch classifier loss: 0.362627; batch adversarial loss: 0.652077\n",
      "epoch 6; iter: 0; batch classifier loss: 0.425407; batch adversarial loss: 0.594602\n",
      "epoch 6; iter: 200; batch classifier loss: 0.488820; batch adversarial loss: 0.606305\n",
      "epoch 7; iter: 0; batch classifier loss: 0.450385; batch adversarial loss: 0.612975\n",
      "epoch 7; iter: 200; batch classifier loss: 0.450873; batch adversarial loss: 0.569899\n",
      "epoch 8; iter: 0; batch classifier loss: 0.465784; batch adversarial loss: 0.615907\n",
      "epoch 8; iter: 200; batch classifier loss: 0.334980; batch adversarial loss: 0.611735\n",
      "epoch 9; iter: 0; batch classifier loss: 0.399670; batch adversarial loss: 0.568799\n",
      "epoch 9; iter: 200; batch classifier loss: 0.402377; batch adversarial loss: 0.665265\n",
      "epoch 10; iter: 0; batch classifier loss: 0.415104; batch adversarial loss: 0.640469\n",
      "epoch 10; iter: 200; batch classifier loss: 0.358047; batch adversarial loss: 0.607656\n",
      "epoch 11; iter: 0; batch classifier loss: 0.409676; batch adversarial loss: 0.619083\n",
      "epoch 11; iter: 200; batch classifier loss: 0.431143; batch adversarial loss: 0.618062\n",
      "epoch 12; iter: 0; batch classifier loss: 0.432647; batch adversarial loss: 0.615195\n",
      "epoch 12; iter: 200; batch classifier loss: 0.479154; batch adversarial loss: 0.645460\n",
      "epoch 13; iter: 0; batch classifier loss: 0.400761; batch adversarial loss: 0.610977\n",
      "epoch 13; iter: 200; batch classifier loss: 0.433479; batch adversarial loss: 0.623003\n",
      "epoch 14; iter: 0; batch classifier loss: 0.404944; batch adversarial loss: 0.628361\n",
      "epoch 14; iter: 200; batch classifier loss: 0.382408; batch adversarial loss: 0.576755\n",
      "epoch 15; iter: 0; batch classifier loss: 0.423546; batch adversarial loss: 0.671810\n",
      "epoch 15; iter: 200; batch classifier loss: 0.409256; batch adversarial loss: 0.616210\n",
      "epoch 16; iter: 0; batch classifier loss: 0.407782; batch adversarial loss: 0.614986\n",
      "epoch 16; iter: 200; batch classifier loss: 0.436183; batch adversarial loss: 0.630838\n",
      "epoch 17; iter: 0; batch classifier loss: 0.467965; batch adversarial loss: 0.566043\n",
      "epoch 17; iter: 200; batch classifier loss: 0.417707; batch adversarial loss: 0.620690\n",
      "epoch 18; iter: 0; batch classifier loss: 0.453913; batch adversarial loss: 0.610681\n",
      "epoch 18; iter: 200; batch classifier loss: 0.415493; batch adversarial loss: 0.581626\n",
      "epoch 19; iter: 0; batch classifier loss: 0.408511; batch adversarial loss: 0.599396\n",
      "epoch 19; iter: 200; batch classifier loss: 0.408499; batch adversarial loss: 0.619604\n",
      "epoch 20; iter: 0; batch classifier loss: 0.447314; batch adversarial loss: 0.615895\n",
      "epoch 20; iter: 200; batch classifier loss: 0.353222; batch adversarial loss: 0.603828\n",
      "epoch 21; iter: 0; batch classifier loss: 0.527493; batch adversarial loss: 0.689001\n",
      "epoch 21; iter: 200; batch classifier loss: 0.461710; batch adversarial loss: 0.583292\n",
      "epoch 22; iter: 0; batch classifier loss: 0.417555; batch adversarial loss: 0.589532\n",
      "epoch 22; iter: 200; batch classifier loss: 0.489353; batch adversarial loss: 0.603155\n",
      "epoch 23; iter: 0; batch classifier loss: 0.373129; batch adversarial loss: 0.638926\n",
      "epoch 23; iter: 200; batch classifier loss: 0.412747; batch adversarial loss: 0.596468\n",
      "epoch 24; iter: 0; batch classifier loss: 0.374697; batch adversarial loss: 0.518943\n",
      "epoch 24; iter: 200; batch classifier loss: 0.410489; batch adversarial loss: 0.579316\n",
      "epoch 25; iter: 0; batch classifier loss: 0.433251; batch adversarial loss: 0.556912\n",
      "epoch 25; iter: 200; batch classifier loss: 0.361631; batch adversarial loss: 0.674619\n",
      "epoch 26; iter: 0; batch classifier loss: 0.506739; batch adversarial loss: 0.625264\n",
      "epoch 26; iter: 200; batch classifier loss: 0.436091; batch adversarial loss: 0.652170\n",
      "epoch 27; iter: 0; batch classifier loss: 0.451995; batch adversarial loss: 0.631330\n",
      "epoch 27; iter: 200; batch classifier loss: 0.462682; batch adversarial loss: 0.524467\n",
      "epoch 28; iter: 0; batch classifier loss: 0.499479; batch adversarial loss: 0.594030\n",
      "epoch 28; iter: 200; batch classifier loss: 0.372899; batch adversarial loss: 0.646780\n",
      "epoch 29; iter: 0; batch classifier loss: 0.374027; batch adversarial loss: 0.604421\n",
      "epoch 29; iter: 200; batch classifier loss: 0.435859; batch adversarial loss: 0.611381\n",
      "epoch 30; iter: 0; batch classifier loss: 0.431492; batch adversarial loss: 0.582969\n",
      "epoch 30; iter: 200; batch classifier loss: 0.434863; batch adversarial loss: 0.546305\n",
      "epoch 31; iter: 0; batch classifier loss: 0.430649; batch adversarial loss: 0.545708\n",
      "epoch 31; iter: 200; batch classifier loss: 0.464734; batch adversarial loss: 0.609471\n",
      "epoch 32; iter: 0; batch classifier loss: 0.456966; batch adversarial loss: 0.664244\n",
      "epoch 32; iter: 200; batch classifier loss: 0.357753; batch adversarial loss: 0.592567\n",
      "epoch 33; iter: 0; batch classifier loss: 0.443809; batch adversarial loss: 0.616424\n",
      "epoch 33; iter: 200; batch classifier loss: 0.393757; batch adversarial loss: 0.658826\n",
      "epoch 34; iter: 0; batch classifier loss: 0.444773; batch adversarial loss: 0.584714\n",
      "epoch 34; iter: 200; batch classifier loss: 0.424980; batch adversarial loss: 0.626536\n",
      "epoch 35; iter: 0; batch classifier loss: 0.452147; batch adversarial loss: 0.606703\n",
      "epoch 35; iter: 200; batch classifier loss: 0.351869; batch adversarial loss: 0.583884\n",
      "epoch 36; iter: 0; batch classifier loss: 0.428683; batch adversarial loss: 0.613791\n",
      "epoch 36; iter: 200; batch classifier loss: 0.466544; batch adversarial loss: 0.627400\n",
      "epoch 37; iter: 0; batch classifier loss: 0.432496; batch adversarial loss: 0.601706\n",
      "epoch 37; iter: 200; batch classifier loss: 0.423290; batch adversarial loss: 0.649742\n",
      "epoch 38; iter: 0; batch classifier loss: 0.457744; batch adversarial loss: 0.638072\n",
      "epoch 38; iter: 200; batch classifier loss: 0.405406; batch adversarial loss: 0.591420\n",
      "epoch 39; iter: 0; batch classifier loss: 0.479999; batch adversarial loss: 0.625975\n",
      "epoch 39; iter: 200; batch classifier loss: 0.394259; batch adversarial loss: 0.591658\n",
      "epoch 40; iter: 0; batch classifier loss: 0.394190; batch adversarial loss: 0.625975\n",
      "epoch 40; iter: 200; batch classifier loss: 0.440511; batch adversarial loss: 0.627274\n",
      "epoch 41; iter: 0; batch classifier loss: 0.337937; batch adversarial loss: 0.569434\n",
      "epoch 41; iter: 200; batch classifier loss: 0.414075; batch adversarial loss: 0.587258\n",
      "epoch 42; iter: 0; batch classifier loss: 0.450724; batch adversarial loss: 0.656663\n",
      "epoch 42; iter: 200; batch classifier loss: 0.337385; batch adversarial loss: 0.673328\n",
      "epoch 43; iter: 0; batch classifier loss: 0.381544; batch adversarial loss: 0.576937\n",
      "epoch 43; iter: 200; batch classifier loss: 0.421424; batch adversarial loss: 0.617601\n",
      "epoch 44; iter: 0; batch classifier loss: 0.408078; batch adversarial loss: 0.619813\n",
      "epoch 44; iter: 200; batch classifier loss: 0.436008; batch adversarial loss: 0.623509\n",
      "epoch 45; iter: 0; batch classifier loss: 0.445127; batch adversarial loss: 0.643931\n",
      "epoch 45; iter: 200; batch classifier loss: 0.425698; batch adversarial loss: 0.617408\n",
      "epoch 46; iter: 0; batch classifier loss: 0.371522; batch adversarial loss: 0.553969\n",
      "epoch 46; iter: 200; batch classifier loss: 0.429667; batch adversarial loss: 0.620735\n",
      "epoch 47; iter: 0; batch classifier loss: 0.424403; batch adversarial loss: 0.588293\n",
      "epoch 47; iter: 200; batch classifier loss: 0.448183; batch adversarial loss: 0.570666\n",
      "epoch 48; iter: 0; batch classifier loss: 0.409776; batch adversarial loss: 0.632124\n",
      "epoch 48; iter: 200; batch classifier loss: 0.444898; batch adversarial loss: 0.642898\n",
      "epoch 49; iter: 0; batch classifier loss: 0.432404; batch adversarial loss: 0.607229\n",
      "epoch 49; iter: 200; batch classifier loss: 0.375949; batch adversarial loss: 0.633544\n"
     ]
    },
    {
     "data": {
      "text/plain": "<aif360.algorithms.inprocessing.adversarial_debiasing.AdversarialDebiasing at 0x2dc9c42e5e0>"
     },
     "execution_count": 26,
     "metadata": {},
     "output_type": "execute_result"
    }
   ],
   "source": [
    "debiased_model.fit(dataset_orig_train)"
   ]
  },
  {
   "cell_type": "code",
   "execution_count": 27,
   "metadata": {},
   "outputs": [],
   "source": [
    "# Apply the plain model to test data\n",
    "dataset_debiasing_train = debiased_model.predict(dataset_orig_train)\n",
    "dataset_debiasing_test = debiased_model.predict(dataset_orig_test)"
   ]
  },
  {
   "cell_type": "code",
   "execution_count": 28,
   "metadata": {},
   "outputs": [
    {
     "data": {
      "text/plain": "<IPython.core.display.Markdown object>",
      "text/markdown": "#### Plain model - without debiasing - dataset metrics"
     },
     "metadata": {},
     "output_type": "display_data"
    },
    {
     "name": "stdout",
     "output_type": "stream",
     "text": [
      "Train set: Difference in mean outcomes between unprivileged and privileged groups = -0.229997\n",
      "Test set: Difference in mean outcomes between unprivileged and privileged groups = -0.232417\n",
      "Train set: Difference in mean outcomes between unprivileged and privileged groups = -0.086101\n",
      "Test set: Difference in mean outcomes between unprivileged and privileged groups = -0.098312\n",
      "Test set: Classification accuracy = 0.802703\n",
      "Test set: Balanced classification accuracy = 0.668518\n",
      "Test set: Disparate impact = 0.000000\n",
      "Test set: Equal opportunity difference = -0.486013\n",
      "Test set: Average odds difference = -0.303784\n",
      "Test set: Theil_index = 0.173769\n",
      "Test set: Classification accuracy = 0.793626\n",
      "Test set: Balanced classification accuracy = 0.672513\n",
      "Test set: Disparate impact = 0.533135\n",
      "Test set: Equal opportunity difference = -0.072370\n",
      "Test set: Average odds difference = -0.049277\n",
      "Test set: Theil_index = 0.170557\n"
     ]
    },
    {
     "data": {
      "text/plain": "<IPython.core.display.Markdown object>",
      "text/markdown": "#### Model - with debiasing - dataset metrics"
     },
     "metadata": {},
     "output_type": "display_data"
    },
    {
     "data": {
      "text/plain": "<IPython.core.display.Markdown object>",
      "text/markdown": "#### Plain model - without debiasing - classification metrics"
     },
     "metadata": {},
     "output_type": "display_data"
    },
    {
     "data": {
      "text/plain": "<IPython.core.display.Markdown object>",
      "text/markdown": "#### Model - with debiasing - classification metrics"
     },
     "metadata": {},
     "output_type": "display_data"
    }
   ],
   "source": [
    "# Metrics for the dataset from plain model (without debiasing)\n",
    "display(Markdown(\"#### Plain model - without debiasing - dataset metrics\"))\n",
    "print(\"Train set: Difference in mean outcomes between unprivileged and privileged groups = %f\" % metric_dataset_nodebiasing_train.mean_difference())\n",
    "print(\"Test set: Difference in mean outcomes between unprivileged and privileged groups = %f\" % metric_dataset_nodebiasing_test.mean_difference())\n",
    "\n",
    "# Metrics for the dataset from model with debiasing\n",
    "display(Markdown(\"#### Model - with debiasing - dataset metrics\"))\n",
    "metric_dataset_debiasing_train = BinaryLabelDatasetMetric(dataset_debiasing_train, \n",
    "                                             unprivileged_groups=unprivileged_groups,\n",
    "                                             privileged_groups=privileged_groups)\n",
    "\n",
    "print(\"Train set: Difference in mean outcomes between unprivileged and privileged groups = %f\" % metric_dataset_debiasing_train.mean_difference())\n",
    "\n",
    "metric_dataset_debiasing_test = BinaryLabelDatasetMetric(dataset_debiasing_test, \n",
    "                                             unprivileged_groups=unprivileged_groups,\n",
    "                                             privileged_groups=privileged_groups)\n",
    "\n",
    "print(\"Test set: Difference in mean outcomes between unprivileged and privileged groups = %f\" % metric_dataset_debiasing_test.mean_difference())\n",
    "\n",
    "\n",
    "\n",
    "display(Markdown(\"#### Plain model - without debiasing - classification metrics\"))\n",
    "print(\"Test set: Classification accuracy = %f\" % classified_metric_nodebiasing_test.accuracy())\n",
    "TPR = classified_metric_nodebiasing_test.true_positive_rate()\n",
    "TNR = classified_metric_nodebiasing_test.true_negative_rate()\n",
    "bal_acc_nodebiasing_test = 0.5*(TPR+TNR)\n",
    "print(\"Test set: Balanced classification accuracy = %f\" % bal_acc_nodebiasing_test)\n",
    "print(\"Test set: Disparate impact = %f\" % classified_metric_nodebiasing_test.disparate_impact())\n",
    "print(\"Test set: Equal opportunity difference = %f\" % classified_metric_nodebiasing_test.equal_opportunity_difference())\n",
    "print(\"Test set: Average odds difference = %f\" % classified_metric_nodebiasing_test.average_odds_difference())\n",
    "print(\"Test set: Theil_index = %f\" % classified_metric_nodebiasing_test.theil_index())\n",
    "\n",
    "\n",
    "\n",
    "display(Markdown(\"#### Model - with debiasing - classification metrics\"))\n",
    "classified_metric_debiasing_test = ClassificationMetric(dataset_orig_test, \n",
    "                                                 dataset_debiasing_test,\n",
    "                                                 unprivileged_groups=unprivileged_groups,\n",
    "                                                 privileged_groups=privileged_groups)\n",
    "print(\"Test set: Classification accuracy = %f\" % classified_metric_debiasing_test.accuracy())\n",
    "TPR = classified_metric_debiasing_test.true_positive_rate()\n",
    "TNR = classified_metric_debiasing_test.true_negative_rate()\n",
    "bal_acc_debiasing_test = 0.5*(TPR+TNR)\n",
    "print(\"Test set: Balanced classification accuracy = %f\" % bal_acc_debiasing_test)\n",
    "print(\"Test set: Disparate impact = %f\" % classified_metric_debiasing_test.disparate_impact())\n",
    "print(\"Test set: Equal opportunity difference = %f\" % classified_metric_debiasing_test.equal_opportunity_difference())\n",
    "print(\"Test set: Average odds difference = %f\" % classified_metric_debiasing_test.average_odds_difference())\n",
    "print(\"Test set: Theil_index = %f\" % classified_metric_debiasing_test.theil_index())"
   ]
  },
  {
   "cell_type": "markdown",
   "metadata": {},
   "source": [
    "\n",
    "    References:\n",
    "    [1] B. H. Zhang, B. Lemoine, and M. Mitchell, \"Mitigating UnwantedBiases with Adversarial Learning,\" \n",
    "    AAAI/ACM Conference on Artificial Intelligence, Ethics, and Society, 2018."
   ]
  },
  {
   "cell_type": "code",
   "execution_count": 28,
   "metadata": {},
   "outputs": [],
   "source": []
  }
 ],
 "metadata": {
  "kernelspec": {
   "name": "python3",
   "language": "python",
   "display_name": "Python 3"
  },
  "language_info": {
   "codemirror_mode": {
    "name": "ipython",
    "version": 2
   },
   "file_extension": ".py",
   "mimetype": "text/x-python",
   "name": "python",
   "nbconvert_exporter": "python",
   "pygments_lexer": "ipython2",
   "version": "2.7.15"
  }
 },
 "nbformat": 4,
 "nbformat_minor": 2
}